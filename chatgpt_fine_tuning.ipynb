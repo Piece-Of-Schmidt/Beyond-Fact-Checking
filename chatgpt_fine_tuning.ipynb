{
 "cells": [
  {
   "cell_type": "code",
   "execution_count": 7,
   "metadata": {},
   "outputs": [],
   "source": [
    "from openai import OpenAI\n",
    "import pandas as pd\n",
    "import json"
   ]
  },
  {
   "cell_type": "code",
   "execution_count": null,
   "metadata": {},
   "outputs": [],
   "source": [
    "# init client\n",
    "client = OpenAI(\n",
    "    api_key=\"<key>\",\n",
    ")"
   ]
  },
  {
   "cell_type": "markdown",
   "metadata": {},
   "source": [
    "## prepare data"
   ]
  },
  {
   "cell_type": "code",
   "execution_count": null,
   "metadata": {},
   "outputs": [],
   "source": [
    "# read raw data\n",
    "train_data = pd.read_csv('train_data.csv', sep=\";\")\n",
    "\n",
    "# convert to jsonl\n",
    "with open('train_data.jsonl', mode='w', encoding='utf-8') as jsonl_file:\n",
    "    # convert to JSONL format\n",
    "    for article in train_data.itertuples():\n",
    "        jsonl_entry = {\n",
    "            \"messages\": [\n",
    "                {\"role\": \"system\", \"content\": article.system},\n",
    "                {\"role\": \"user\", \"content\": article.input},\n",
    "                {\"role\": \"assistant\", \"content\": article.response}\n",
    "            ]\n",
    "        }\n",
    "        jsonl_file.write(json.dumps(jsonl_entry, ensure_ascii=False) + '\\n')"
   ]
  },
  {
   "cell_type": "markdown",
   "metadata": {},
   "source": [
    "## fine-tune 4o-mini"
   ]
  },
  {
   "cell_type": "code",
   "execution_count": null,
   "metadata": {},
   "outputs": [],
   "source": [
    "path = 'train_data.jsonl'\n",
    "\n",
    "# upload train data to openai\n",
    "client.files.create(\n",
    "    file=open(path, \"rb\"),\n",
    "    purpose='fine-tune'\n",
    ")"
   ]
  },
  {
   "cell_type": "code",
   "execution_count": null,
   "metadata": {},
   "outputs": [],
   "source": [
    "# create ft job\n",
    "client.fine_tuning.jobs.create(\n",
    "  training_file=\"<file-id>\", \n",
    "  suffix=\"MD-Assistant\",\n",
    "  model='gpt-4o-mini-2024-07-18',\n",
    "  hyperparameters={\"n_epochs\":3, \"batch_size\":4}\n",
    ")"
   ]
  },
  {
   "cell_type": "markdown",
   "metadata": {},
   "source": [
    "## fine-tune 4o"
   ]
  },
  {
   "cell_type": "code",
   "execution_count": null,
   "metadata": {},
   "outputs": [],
   "source": [
    "# create ft job\n",
    "client.fine_tuning.jobs.create(\n",
    "  training_file=\"<file-id>\", \n",
    "  suffix=\"MD-Assistant\",\n",
    "  model='gpt-4o-2024-08-06',\n",
    "  hyperparameters={\"n_epochs\":3, \"batch_size\":4}\n",
    ")"
   ]
  }
 ],
 "metadata": {
  "kernelspec": {
   "display_name": "Python 3",
   "language": "python",
   "name": "python3"
  },
  "language_info": {
   "codemirror_mode": {
    "name": "ipython",
    "version": 3
   },
   "file_extension": ".py",
   "mimetype": "text/x-python",
   "name": "python",
   "nbconvert_exporter": "python",
   "pygments_lexer": "ipython3",
   "version": "3.11.9"
  }
 },
 "nbformat": 4,
 "nbformat_minor": 2
}
