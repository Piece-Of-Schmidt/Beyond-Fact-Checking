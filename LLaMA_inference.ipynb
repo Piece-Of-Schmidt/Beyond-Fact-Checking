{
 "cells": [
  {
   "cell_type": "code",
   "execution_count": 6,
   "metadata": {},
   "outputs": [],
   "source": [
    "import re\n",
    "import pandas as pd\n",
    "import time\n",
    "import json\n",
    "from groq import Groq"
   ]
  },
  {
   "cell_type": "code",
   "execution_count": null,
   "metadata": {},
   "outputs": [],
   "source": [
    "# init groq client\n",
    "client = Groq(\n",
    "    api_key='<paste_groq_key_here>',\n",
    ")"
   ]
  },
  {
   "cell_type": "code",
   "execution_count": 14,
   "metadata": {},
   "outputs": [],
   "source": [
    "# read settings\n",
    "prompts = pd.read_csv('data/prompts.csv')\n",
    "\n",
    "# read articles\n",
    "articles = pd.read_csv('data/evaluation_texts.csv')\n",
    "\n",
    "# read criteria\n",
    "criteria = pd.read_csv('data/criteria.csv')\n",
    "criteria = criteria['kriterien'].tolist()\n",
    "\n",
    "# define techniques\n",
    "techniques = prompts['key'].tolist()"
   ]
  },
  {
   "cell_type": "code",
   "execution_count": 4,
   "metadata": {},
   "outputs": [],
   "source": [
    "max_len = 15000 # max char length of an article (to save tokens due to the groq tokens / minutes limit)\n",
    "model = \"llama3-8b-8192\""
   ]
  },
  {
   "cell_type": "code",
   "execution_count": null,
   "metadata": {},
   "outputs": [],
   "source": [
    "all_results = []\n",
    "\n",
    "# do three runs \n",
    "for run in [0, 1, 2]:\n",
    "\n",
    "    print('\\n#### - RUN:', run+1, \" - ####\\n\")\n",
    "\n",
    "    # init list for run    \n",
    "    results_per_run = []\n",
    "    \n",
    "    # iterate over all techniques\n",
    "    for technik in techniques:\n",
    "\n",
    "        print('\\nNEXT PROMPT STYLE:', technik, '\\n')\n",
    "\n",
    "        # get criteria right\n",
    "        krits = [f'{i+1} {criteria[i]}' for i in range(len(criteria))] if \"each\" in technik else '\\n'.join(f'{i+1} {criteria[i]}' for i in range(len(criteria)))\n",
    "        if len(krits) != 10: krits = [krits]\n",
    "\n",
    "        # get instruction right\n",
    "        instruction = prompts[prompts['key'] == technik]['value'].tolist()\n",
    "\n",
    "        # init predictions_list that entails all articles\n",
    "        predictions = []\n",
    "\n",
    "        # iterate over all documents\n",
    "        for row in articles.itertuples():\n",
    "\n",
    "            print('  article:', row.id)\n",
    "            \n",
    "            # strip text if needed\n",
    "            text = row.text if len(row.text) < max_len else row.text[:max_len]\n",
    "            \n",
    "            # init prediction_per_crit list that entails the predictions for one single document\n",
    "            prediction_per_crit = []\n",
    "\n",
    "            # iterate over all criteria\n",
    "            for krit in krits:\n",
    "\n",
    "                print('   crit:', krit)\n",
    "\n",
    "                # create complete promt\n",
    "                prompt = f'{instruction}\\n\\n#ARTIKEL:\\n{text}\\n\\n#KRIT.:\\n{krit}'\n",
    "\n",
    "                try: # for time and token limits when using groq\n",
    "                    chat_completion = client.chat.completions.create(\n",
    "                        messages=[\n",
    "                            {\"role\": \"system\", \"content\": \"Du bist strenger wissenschaftlicher Gutachter von wissenschaftsjournalistischen Texten.\"},\n",
    "                            {\"role\": \"user\", \"content\": prompt},\n",
    "                        ],\n",
    "                        temperature=0.1,\n",
    "                        model=model,\n",
    "                    )\n",
    "                except: # for time and token limits when using groq\n",
    "                    print('take a nap...')\n",
    "                    time.sleep(120)\n",
    "                    print('try again...')\n",
    "                    chat_completion = client.chat.completions.create(\n",
    "                        messages=[\n",
    "                            {\"role\": \"system\", \"content\": \"Du bist strenger wissenschaftlicher Gutachter von wissenschaftsjournalistischen Texten.\"},\n",
    "                            {\"role\": \"user\", \"content\": prompt},\n",
    "                        ],\n",
    "                        temperature=0.1,\n",
    "                        model=model,\n",
    "                    )\n",
    "\n",
    "                # append predictions_per_crit list (one article - all predictions)\n",
    "                prediction_per_crit.append(chat_completion.choices[0].message.content)\n",
    "\n",
    "            # append predictions list (all articles - same prompting)\n",
    "            predictions.append(prediction_per_crit)\n",
    "\n",
    "        # append results_per_run list all prompt - one out of three runs\n",
    "        results_per_run.append(predictions)\n",
    "\n",
    "    # append all_results list - all data\n",
    "    all_results.append(results_per_run)\n",
    "\n",
    "# return\n",
    "all_results"
   ]
  },
  {
   "cell_type": "code",
   "execution_count": null,
   "metadata": {},
   "outputs": [],
   "source": [
    "# save locally\n",
    "with open(model+\"evaluations.json\", \"w\", encoding=\"utf-8\") as outfile: \n",
    "    json.dump(all_results, outfile, indent=4, ensure_ascii=False)"
   ]
  }
 ],
 "metadata": {
  "kernelspec": {
   "display_name": "Python 3",
   "language": "python",
   "name": "python3"
  },
  "language_info": {
   "codemirror_mode": {
    "name": "ipython",
    "version": 3
   },
   "file_extension": ".py",
   "mimetype": "text/x-python",
   "name": "python",
   "nbconvert_exporter": "python",
   "pygments_lexer": "ipython3",
   "version": "3.12.1"
  }
 },
 "nbformat": 4,
 "nbformat_minor": 2
}
